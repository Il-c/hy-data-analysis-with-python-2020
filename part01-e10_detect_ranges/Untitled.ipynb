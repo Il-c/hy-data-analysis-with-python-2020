{
 "cells": [
  {
   "cell_type": "code",
   "execution_count": 5,
   "metadata": {},
   "outputs": [
    {
     "name": "stdout",
     "output_type": "stream",
     "text": [
      "[2, range(4, 9), 10, range(12, 14)]\n"
     ]
    }
   ],
   "source": [
    "def detect_ranges(L):\n",
    "    list = L\n",
    "    list.sort()\n",
    "    newList = []\n",
    "    i = 0\n",
    "    j = 0\n",
    "    alku = 0\n",
    "    loppu = 0\n",
    "    while i < len(list):\n",
    "        j = i\n",
    "        while (j+1)<len(list):\n",
    "            if (list[j]+1) == list[j+1]:\n",
    "                loppu = j+1\n",
    "            else:\n",
    "                loppu = j\n",
    "                break\n",
    "            j = j + 1\n",
    "            \n",
    "        if loppu == alku:\n",
    "            newList.append(list[i])\n",
    "            i = i+1\n",
    "            alku = alku +1\n",
    "        else:\n",
    "            i = j + 1\n",
    "            newList.append(range(list[alku],list[loppu]+1))\n",
    "            alku = loppu + 1\n",
    "            loppu = alku\n",
    "    return newList\n",
    "\n",
    "print(detect_ranges([2, 5, 4, 8, 12, 6, 7, 10, 13]))"
   ]
  }
 ],
 "metadata": {
  "kernelspec": {
   "display_name": "Python 3",
   "language": "python",
   "name": "python3"
  },
  "language_info": {
   "codemirror_mode": {
    "name": "ipython",
    "version": 3
   },
   "file_extension": ".py",
   "mimetype": "text/x-python",
   "name": "python",
   "nbconvert_exporter": "python",
   "pygments_lexer": "ipython3",
   "version": "3.7.6"
  }
 },
 "nbformat": 4,
 "nbformat_minor": 4
}
